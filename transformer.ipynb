{
 "cells": [
  {
   "cell_type": "code",
   "execution_count": 144,
   "metadata": {},
   "outputs": [],
   "source": [
    "from connector.replay import Replay, State, Team\n",
    "import os\n",
    "import numpy as np\n",
    "\n",
    "from typing import Optional"
   ]
  },
  {
   "cell_type": "code",
   "execution_count": 145,
   "metadata": {},
   "outputs": [],
   "source": [
    "def remove_menu_and_pause(replay, debug=False):\n",
    "    episodes    = []\n",
    "    cur_episode = []\n",
    "    prev_state  = replay[0].state\n",
    "    for frame in replay:\n",
    "        # Last frame was added, start new episode\n",
    "        if frame.state != State.Goal and prev_state == State.Goal:\n",
    "            episodes.append(cur_episode)\n",
    "            cur_episode = []\n",
    "        if frame.state == State.Menu and prev_state != State.Menu:\n",
    "            episodes.append(cur_episode)\n",
    "            cur_episode = []\n",
    "            \n",
    "        if debug:\n",
    "            if frame.state != prev_state:\n",
    "                print(\"Cur: {}; Prev: {}\".format(frame.state, prev_state))\n",
    "                print(frame.score)\n",
    "            \n",
    "            \n",
    "        # Add only warm-up, game, and goal state\n",
    "        if frame.state != State.Menu and frame.state != State.Pause:\n",
    "            cur_episode.append(frame)\n",
    "            \n",
    "        prev_state = frame.state\n",
    "        \n",
    "    return episodes\n",
    "\n",
    "def who_scored(episode) -> Optional[Team]:\n",
    "    if episode[0].score == episode[-1].score:\n",
    "        return None\n",
    "    if episode[0].score[0] != episode[-1].score[0]:\n",
    "        return Team.Red\n",
    "    return Team.Blue"
   ]
  },
  {
   "cell_type": "code",
   "execution_count": 130,
   "metadata": {},
   "outputs": [],
   "source": [
    "replay_parser = Replay(open(\"replays/cups/edition7/2018-12-02.bin\", mode=\"rb\").read())"
   ]
  },
  {
   "cell_type": "code",
   "execution_count": 131,
   "metadata": {},
   "outputs": [
    {
     "data": {
      "text/plain": [
       "{'replayTime': 36.0,\n",
       " 'state': <State.Warmup: 2>,\n",
       " 'gameTime': 0.0,\n",
       " 'score': (0, 0),\n",
       " 'overtime': False,\n",
       " 'players': [<connector.replay.Player at 0x7f4fb0e4fda0>,\n",
       "  <connector.replay.Player at 0x7f4fb0e4fe10>],\n",
       " 'ball': <connector.replay.Disc at 0x7f4fb0e4fe48>}"
      ]
     },
     "execution_count": 131,
     "metadata": {},
     "output_type": "execute_result"
    }
   ],
   "source": [
    "replay_parser[600].__dict__"
   ]
  },
  {
   "cell_type": "code",
   "execution_count": 138,
   "metadata": {},
   "outputs": [],
   "source": [
    "episodes = remove_menu_and_pause(replay_parser)"
   ]
  },
  {
   "cell_type": "code",
   "execution_count": 146,
   "metadata": {},
   "outputs": [
    {
     "name": "stdout",
     "output_type": "stream",
     "text": [
      "(1, 0)\n",
      "Team.Red\n",
      "(1, 1)\n",
      "Team.Blue\n",
      "(1, 2)\n",
      "Team.Blue\n",
      "(1, 3)\n",
      "Team.Blue\n",
      "(1, 4)\n",
      "Team.Blue\n",
      "(1, 5)\n",
      "Team.Blue\n",
      "(1, 6)\n",
      "Team.Blue\n",
      "(2, 6)\n",
      "Team.Red\n",
      "(3, 6)\n",
      "Team.Red\n",
      "(3, 7)\n",
      "Team.Blue\n",
      "(3, 8)\n",
      "Team.Blue\n",
      "(4, 8)\n",
      "Team.Red\n",
      "(5, 8)\n",
      "Team.Red\n",
      "(5, 8)\n",
      "None\n"
     ]
    },
    {
     "ename": "IndexError",
     "evalue": "list index out of range",
     "output_type": "error",
     "traceback": [
      "\u001b[0;31m---------------------------------------------------------------------------\u001b[0m",
      "\u001b[0;31mIndexError\u001b[0m                                Traceback (most recent call last)",
      "\u001b[0;32m<ipython-input-146-6f60ca8fbe13>\u001b[0m in \u001b[0;36m<module>\u001b[0;34m\u001b[0m\n\u001b[1;32m      1\u001b[0m \u001b[0;32mfor\u001b[0m \u001b[0mepisode\u001b[0m \u001b[0;32min\u001b[0m \u001b[0mepisodes\u001b[0m\u001b[0;34m:\u001b[0m\u001b[0;34m\u001b[0m\u001b[0;34m\u001b[0m\u001b[0m\n\u001b[0;32m----> 2\u001b[0;31m     \u001b[0mprint\u001b[0m\u001b[0;34m(\u001b[0m\u001b[0mepisode\u001b[0m\u001b[0;34m[\u001b[0m\u001b[0;34m-\u001b[0m\u001b[0;36m1\u001b[0m\u001b[0;34m]\u001b[0m\u001b[0;34m.\u001b[0m\u001b[0mscore\u001b[0m\u001b[0;34m)\u001b[0m\u001b[0;34m\u001b[0m\u001b[0;34m\u001b[0m\u001b[0m\n\u001b[0m\u001b[1;32m      3\u001b[0m     \u001b[0mprint\u001b[0m\u001b[0;34m(\u001b[0m\u001b[0mwho_scored\u001b[0m\u001b[0;34m(\u001b[0m\u001b[0mepisode\u001b[0m\u001b[0;34m)\u001b[0m\u001b[0;34m)\u001b[0m\u001b[0;34m\u001b[0m\u001b[0;34m\u001b[0m\u001b[0m\n",
      "\u001b[0;31mIndexError\u001b[0m: list index out of range"
     ]
    }
   ],
   "source": [
    "for episode in episodes:\n",
    "    print(episode[-1].score)\n",
    "    print(who_scored(episode))"
   ]
  },
  {
   "cell_type": "code",
   "execution_count": 4,
   "metadata": {},
   "outputs": [],
   "source": [
    "def transform_blue_pivotal(frames) -> Replay:\n",
    "    \"\"\"\n",
    "    Inplace transformation of disk positions and velocities based on the pivotal team side.\n",
    "    Inverse x-axis basically.\n",
    "    \n",
    "    frames: a list of replay frames\n",
    "    \"\"\"\n",
    "    for frame in frames:\n",
    "        for player in frame.players:\n",
    "            # Inverse position and velocity along x-axis\n",
    "            player.disc.x  = -player.disc.x\n",
    "            player.disc.vx = -player.disc.vx\n",
    "            \n",
    "            # Swap left and right actions\n",
    "            temp            = player.input[2]\n",
    "            player.input[2] = player.input[3]\n",
    "            player.input[3] = temp\n",
    "            \n",
    "        # Inverse position and velocity of the ball along x-axis\n",
    "        frame.ball.x  = -frame.ball.x\n",
    "        frame.ball.vx = -frame.ball.vx"
   ]
  },
  {
   "cell_type": "code",
   "execution_count": null,
   "metadata": {},
   "outputs": [],
   "source": []
  }
 ],
 "metadata": {
  "kernelspec": {
   "display_name": "Python 3",
   "language": "python",
   "name": "python3"
  },
  "language_info": {
   "codemirror_mode": {
    "name": "ipython",
    "version": 3
   },
   "file_extension": ".py",
   "mimetype": "text/x-python",
   "name": "python",
   "nbconvert_exporter": "python",
   "pygments_lexer": "ipython3",
   "version": "3.7.1"
  }
 },
 "nbformat": 4,
 "nbformat_minor": 2
}

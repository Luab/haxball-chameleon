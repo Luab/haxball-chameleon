{
 "cells": [
  {
   "cell_type": "code",
   "execution_count": 1,
   "metadata": {},
   "outputs": [],
   "source": [
    "import os\n",
    "import sys\n",
    "module_path = os.path.abspath(os.path.join('..'))\n",
    "if module_path not in sys.path:\n",
    "    sys.path.append(module_path)"
   ]
  },
  {
   "cell_type": "code",
   "execution_count": 2,
   "metadata": {},
   "outputs": [],
   "source": [
    "%load_ext autoreload\n",
    "%autoreload 2"
   ]
  },
  {
   "cell_type": "code",
   "execution_count": 3,
   "metadata": {},
   "outputs": [],
   "source": [
    "from replay import Replay, State, Team\n",
    "from bots.lgbm.preprocessing    import remove_menu_and_pause\n",
    "from bots.lgbm.preprocessing    import who_scored\n",
    "from bots.lgbm.preprocessing    import game_state_to_numpy\n",
    "\n",
    "from typing import Optional\n",
    "from sklearn.metrics import confusion_matrix, classification_report\n",
    "from joblib import dump, load\n",
    "\n",
    "import matplotlib.pyplot as plt\n",
    "import numpy as np"
   ]
  },
  {
   "cell_type": "code",
   "execution_count": 21,
   "metadata": {},
   "outputs": [],
   "source": [
    "\n",
    "def boolarr_to_class(y : [bool]) -> int:\n",
    "    def boolarr_to_dirstate(y : [bool]) -> np.array:\n",
    "        result = [0,0,0]\n",
    "        if y[0]: #UP key pressed\n",
    "            result[0] += 1\n",
    "        if y[1]: #down key pressed\n",
    "            result[0] -= 1\n",
    "\n",
    "        if y[2]: #left\n",
    "            result[1] += 1\n",
    "        if y[3]: #right\n",
    "            result[1] -= 1\n",
    "\n",
    "        if y[4]:\n",
    "            result[2] += 1\n",
    "\n",
    "        return np.array(result)\n",
    "    \n",
    "    y = tuple(boolarr_to_dirstate(y))\n",
    "    \n",
    "    if y == tuple([0,0,0]):\n",
    "        return 0\n",
    "    elif y == tuple([0,0,1]):\n",
    "        return 1\n",
    "    \n",
    "    elif y == tuple([-1,0,0]):\n",
    "        return 2\n",
    "    elif y == tuple([-1,0,1]):\n",
    "        return 3\n",
    "    \n",
    "    elif y == tuple([0,-1,0]):\n",
    "        return 4\n",
    "    elif y == tuple([0,-1,1]):\n",
    "        return 5\n",
    "    \n",
    "    elif y == tuple([1,0,0]):\n",
    "        return 6\n",
    "    elif y == tuple([1,0,1]):\n",
    "        return 7\n",
    "    \n",
    "    elif y == tuple([0,1,0]):\n",
    "        return 8\n",
    "    elif y == tuple([0,1,1]):\n",
    "        return 9\n",
    "    \n",
    "    elif y == tuple([1,1,0]):\n",
    "        return 10\n",
    "    elif y == tuple([1,1,1]):\n",
    "        return 11\n",
    "    \n",
    "    elif y == tuple([-1,-1,0]):\n",
    "        return 12\n",
    "    elif y == tuple([-1,-1,1]):\n",
    "        return 13\n",
    "    \n",
    "    elif y == tuple([-1,1,0]):\n",
    "        return 14\n",
    "    elif y == tuple([-1,1,1]):\n",
    "        return 15\n",
    "    \n",
    "    elif y == tuple([1,-1,0]):\n",
    "        return 16\n",
    "    elif y == tuple([1,-1,1]):\n",
    "        return 17\n",
    "def prepare_train_data(episodes, stack_frames=4):\n",
    "    # Take resultative episodes as training data\n",
    "    train_x, train_y = [], []\n",
    "    for episode in episodes:\n",
    "        scorer = who_scored(episode)\n",
    "        if scorer is not None:\n",
    "            if scorer == Team.Blue:\n",
    "                transform_blue_pivotal(episode)\n",
    "            \n",
    "            x = []\n",
    "            y = []\n",
    "            for e in episode:\n",
    "                e_x, e_y = game_state_to_numpy(e, scorer)\n",
    "                if e_x is not None and e_y is not None:\n",
    "                    x.append(e_x)\n",
    "                    y.append(e_y)\n",
    "            \n",
    "            # If there was no target player - ignore\n",
    "            if x is not None and y is not None:\n",
    "                train_x.append(x)\n",
    "                train_y.append(y)\n",
    "                \n",
    "    # Stack n-frames\n",
    "    x = []\n",
    "    y = []\n",
    "    for episode_i in range(len(train_x)):\n",
    "        episode_x      = train_x[episode_i]\n",
    "        episode_y      = train_y[episode_i]\n",
    "        \n",
    "        # Stacked samples\n",
    "        train_sample = [episode_x[0] for _ in range(stack_frames)]\n",
    "        \n",
    "        x.append(np.concatenate(train_sample).ravel())\n",
    "        y.append(boolarr_to_class(np.array(episode_y[0])))\n",
    "        \n",
    "        for frame_i in range(1, len(episode_x)):\n",
    "            frame_x = episode_x[frame_i]\n",
    "            frame_y = episode_y[frame_i]\n",
    "            \n",
    "            # Move stack\n",
    "            for i in range(1, stack_frames):\n",
    "                train_sample[i] = train_sample[i - 1]\n",
    "            train_sample[0] = frame_x\n",
    "            \n",
    "            x.append(np.concatenate(train_sample).ravel())\n",
    "            y.append(boolarr_to_class(np.array(frame_y)))\n",
    "            \n",
    "    return x, y"
   ]
  },
  {
   "cell_type": "code",
   "execution_count": 5,
   "metadata": {},
   "outputs": [],
   "source": [
    "def transform_blue_pivotal(frames) -> Replay:\n",
    "    \"\"\"\n",
    "    Inplace transformation of disk positions and velocities based on the pivotal team side.\n",
    "    Inverse x-axis basically.\n",
    "    \n",
    "    frames: a list of replay frames\n",
    "    \"\"\"\n",
    "    for frame in frames:\n",
    "        if frame.players == None:\n",
    "            continue\n",
    "            \n",
    "        for player in frame.players:\n",
    "            # Inverse position and velocity along x-axis\n",
    "            player.disc.x  = -player.disc.x\n",
    "            player.disc.vx = -player.disc.vx\n",
    "            \n",
    "            # Swap left and right actions\n",
    "            temp            = player.input[2]\n",
    "            player.input[2] = player.input[3]\n",
    "            player.input[3] = temp\n",
    "            \n",
    "        # Inverse position and velocity of the ball along x-axis\n",
    "        frame.ball.x  = -frame.ball.x\n",
    "        frame.ball.vx = -frame.ball.vx"
   ]
  },
  {
   "cell_type": "code",
   "execution_count": 6,
   "metadata": {},
   "outputs": [],
   "source": [
    "import os\n",
    "\n",
    "def prepare_train_data_folder(path):\n",
    "    all_episodes = []\n",
    "    num_games    = 0\n",
    "    for file in os.listdir(path):\n",
    "        if file[-4:] != \".bin\":\n",
    "            continue\n",
    "            \n",
    "        num_games += 1\n",
    "        \n",
    "        # Parse replay and etract game epsiodes\n",
    "        _, replay = Replay(open(os.path.join(path, file), mode=\"rb\").read())\n",
    "        episodes = remove_menu_and_pause(replay)\n",
    "        all_episodes.extend(episodes)\n",
    "        \n",
    "    print(\"Num episodes: {}\".format(len(all_episodes)))\n",
    "    print(\"Num games: {}\".format(num_games))\n",
    "    return prepare_train_data(all_episodes, 1)"
   ]
  },
  {
   "cell_type": "code",
   "execution_count": 7,
   "metadata": {},
   "outputs": [],
   "source": [
    "import json\n",
    "\n",
    "with open(\"../preprocessed/statistics.json\") as f:\n",
    "    names = json.load(f)"
   ]
  },
  {
   "cell_type": "code",
   "execution_count": 8,
   "metadata": {},
   "outputs": [],
   "source": [
    "max_replays = 0\n",
    "max_name    = None\n",
    "for name in names.keys():\n",
    "    if len(names[name]) > max_replays:\n",
    "        max_replays = len(names[name])\n",
    "        max_name = name"
   ]
  },
  {
   "cell_type": "code",
   "execution_count": 9,
   "metadata": {},
   "outputs": [
    {
     "data": {
      "text/plain": [
       "26"
      ]
     },
     "execution_count": 9,
     "metadata": {},
     "output_type": "execute_result"
    }
   ],
   "source": [
    "max_replays"
   ]
  },
  {
   "cell_type": "code",
   "execution_count": 10,
   "metadata": {},
   "outputs": [
    {
     "data": {
      "text/plain": [
       "'Saviour'"
      ]
     },
     "execution_count": 10,
     "metadata": {},
     "output_type": "execute_result"
    }
   ],
   "source": [
    "max_name"
   ]
  },
  {
   "cell_type": "code",
   "execution_count": 11,
   "metadata": {},
   "outputs": [],
   "source": [
    "all_episodes = []\n",
    "for relative_path in names[max_name][:2]:\n",
    "    path = \"..\"\n",
    "    # Parse replay and etract game epsiodes\n",
    "    _, replay = Replay(open(os.path.join(path, relative_path), mode=\"rb\").read())\n",
    "    episodes = remove_menu_and_pause(replay)\n",
    "    all_episodes.extend(episodes)"
   ]
  },
  {
   "cell_type": "code",
   "execution_count": 12,
   "metadata": {},
   "outputs": [
    {
     "data": {
      "text/plain": [
       "42"
      ]
     },
     "execution_count": 12,
     "metadata": {},
     "output_type": "execute_result"
    }
   ],
   "source": [
    "len(all_episodes)"
   ]
  },
  {
   "cell_type": "markdown",
   "metadata": {},
   "source": []
  },
  {
   "cell_type": "code",
   "execution_count": 22,
   "metadata": {},
   "outputs": [],
   "source": [
    "t1, t2 = prepare_train_data(all_episodes, 1)#prepare_train_data_folder(\"replays/cups/edition7/\")"
   ]
  },
  {
   "cell_type": "code",
   "execution_count": 24,
   "metadata": {},
   "outputs": [],
   "source": [
    "import lightgbm as lgb"
   ]
  },
  {
   "cell_type": "code",
   "execution_count": 38,
   "metadata": {},
   "outputs": [],
   "source": [
    "imitator = lgb.LGBMClassifier(n_estimators=400)"
   ]
  },
  {
   "cell_type": "code",
   "execution_count": 39,
   "metadata": {},
   "outputs": [
    {
     "data": {
      "text/plain": [
       "LGBMClassifier(boosting_type='gbdt', class_weight=None, colsample_bytree=1.0,\n",
       "        importance_type='split', learning_rate=0.1, max_depth=-1,\n",
       "        min_child_samples=20, min_child_weight=0.001, min_split_gain=0.0,\n",
       "        n_estimators=400, n_jobs=-1, num_leaves=31, objective=None,\n",
       "        random_state=None, reg_alpha=0.0, reg_lambda=0.0, silent=True,\n",
       "        subsample=1.0, subsample_for_bin=200000, subsample_freq=0)"
      ]
     },
     "execution_count": 39,
     "metadata": {},
     "output_type": "execute_result"
    }
   ],
   "source": [
    "imitator.fit(t1, t2)"
   ]
  },
  {
   "cell_type": "code",
   "execution_count": 40,
   "metadata": {},
   "outputs": [],
   "source": [
    "t2_pred = imitator.predict(t1)"
   ]
  },
  {
   "cell_type": "code",
   "execution_count": 28,
   "metadata": {},
   "outputs": [],
   "source": [
    "from sklearn.utils.multiclass import unique_labels\n",
    "\n",
    "def plot_confusion_matrix(y_true, y_pred, classes,\n",
    "                          normalize=False,\n",
    "                          title=None,\n",
    "                          cmap=plt.cm.Blues):\n",
    "    \"\"\"\n",
    "    This function prints and plots the confusion matrix.\n",
    "    Normalization can be applied by setting `normalize=True`.\n",
    "    \"\"\"\n",
    "    if not title:\n",
    "        if normalize:\n",
    "            title = 'Normalized confusion matrix'\n",
    "        else:\n",
    "            title = 'Confusion matrix, without normalization'\n",
    "\n",
    "    # Compute confusion matrix\n",
    "    cm = confusion_matrix(y_true, y_pred)\n",
    "    # Only use the labels that appear in the data\n",
    "    #classes = classes[unique_labels(y_true, y_pred)]\n",
    "    if normalize:\n",
    "        cm = cm.astype('float') / cm.sum(axis=1)[:, np.newaxis]\n",
    "        print(\"Normalized confusion matrix\")\n",
    "    else:\n",
    "        print('Confusion matrix, without normalization')\n",
    "\n",
    "    fig, ax = plt.subplots()\n",
    "    im = ax.imshow(cm, interpolation='nearest', cmap=cmap)\n",
    "    ax.figure.colorbar(im, ax=ax)\n",
    "    # We want to show all ticks...\n",
    "    ax.set(xticks=np.arange(cm.shape[1]),\n",
    "           yticks=np.arange(cm.shape[0]),\n",
    "           # ... and label them with the respective list entries\n",
    "           xticklabels=classes, yticklabels=classes,\n",
    "           title=title,\n",
    "           ylabel='True label',\n",
    "           xlabel='Predicted label')\n",
    "\n",
    "    # Rotate the tick labels and set their alignment.\n",
    "    plt.setp(ax.get_xticklabels(), rotation=45, ha=\"right\",\n",
    "             rotation_mode=\"anchor\")\n",
    "\n",
    "    # Loop over data dimensions and create text annotations.\n",
    "    fmt = '.2f' if normalize else 'd'\n",
    "    thresh = cm.max() / 2.\n",
    "    for i in range(cm.shape[0]):\n",
    "        for j in range(cm.shape[1]):\n",
    "            ax.text(j, i, format(cm[i, j], fmt),\n",
    "                    ha=\"center\", va=\"center\",\n",
    "                    color=\"white\" if cm[i, j] > thresh else \"black\")\n",
    "    fig.tight_layout()\n",
    "    return ax"
   ]
  },
  {
   "cell_type": "code",
   "execution_count": 29,
   "metadata": {},
   "outputs": [
    {
     "name": "stdout",
     "output_type": "stream",
     "text": [
      "Confusion matrix, without normalization\n"
     ]
    },
    {
     "data": {
      "image/png": "[encoded data removed]",
      "text/plain": [
       "<Figure size 432x288 with 2 Axes>"
      ]
     },
     "metadata": {
      "needs_background": "light"
     },
     "output_type": "display_data"
    }
   ],
   "source": [
    "plot_confusion_matrix(t2, t2_pred.astype(int), list(range(18)))\n",
    "plt.show()"
   ]
  },
  {
   "cell_type": "code",
   "execution_count": 30,
   "metadata": {},
   "outputs": [
    {
     "name": "stdout",
     "output_type": "stream",
     "text": [
      "              precision    recall  f1-score   support\n",
      "\n",
      "           0       0.89      0.85      0.87     12313\n",
      "           1       0.95      1.00      0.97       218\n",
      "           2       0.86      0.65      0.74      4375\n",
      "           3       0.95      0.98      0.96       319\n",
      "           4       0.59      0.81      0.68      9892\n",
      "           5       0.90      0.99      0.94       392\n",
      "           6       0.80      0.67      0.73      4486\n",
      "           7       0.96      0.99      0.97       355\n",
      "           8       0.67      0.85      0.75     14831\n",
      "           9       0.89      0.96      0.92       529\n",
      "          10       0.83      0.68      0.75      6312\n",
      "          11       0.93      0.99      0.96       319\n",
      "          12       0.91      0.63      0.74      4495\n",
      "          13       0.94      1.00      0.97       228\n",
      "          14       0.89      0.62      0.73      5660\n",
      "          15       0.95      1.00      0.97       313\n",
      "          16       0.87      0.62      0.72      4662\n",
      "          17       0.93      1.00      0.97       256\n",
      "\n",
      "   micro avg       0.76      0.76      0.76     69955\n",
      "   macro avg       0.87      0.85      0.85     69955\n",
      "weighted avg       0.79      0.76      0.76     69955\n",
      "\n"
     ]
    }
   ],
   "source": [
    "# 100 estimators\n",
    "print(classification_report(t2, t2_pred))"
   ]
  },
  {
   "cell_type": "code",
   "execution_count": 42,
   "metadata": {},
   "outputs": [
    {
     "data": {
      "text/plain": [
       "['imitator1.joblib']"
      ]
     },
     "execution_count": 42,
     "metadata": {},
     "output_type": "execute_result"
    }
   ],
   "source": [
    "dump(imitator, 'imitator1.joblib')"
   ]
  },
  {
   "cell_type": "code",
   "execution_count": 35,
   "metadata": {},
   "outputs": [
    {
     "name": "stdout",
     "output_type": "stream",
     "text": [
      "Confusion matrix, without normalization\n"
     ]
    },
    {
     "data": {
      "image/png": "[encoded data removed]",
      "text/plain": [
       "<Figure size 432x288 with 2 Axes>"
      ]
     },
     "metadata": {
      "needs_background": "light"
     },
     "output_type": "display_data"
    }
   ],
   "source": [
    "plot_confusion_matrix(t2, t2_pred.astype(int), list(range(18)))\n",
    "plt.show()"
   ]
  },
  {
   "cell_type": "code",
   "execution_count": 36,
   "metadata": {},
   "outputs": [
    {
     "name": "stdout",
     "output_type": "stream",
     "text": [
      "              precision    recall  f1-score   support\n",
      "\n",
      "           0       0.93      0.90      0.92     12313\n",
      "           1       0.99      1.00      1.00       218\n",
      "           2       0.92      0.81      0.86      4375\n",
      "           3       0.99      0.99      0.99       319\n",
      "           4       0.73      0.89      0.80      9892\n",
      "           5       0.99      1.00      1.00       392\n",
      "           6       0.89      0.83      0.86      4486\n",
      "           7       0.99      1.00      1.00       355\n",
      "           8       0.80      0.90      0.85     14831\n",
      "           9       0.98      0.99      0.99       529\n",
      "          10       0.90      0.81      0.85      6312\n",
      "          11       1.00      1.00      1.00       319\n",
      "          12       0.94      0.81      0.87      4495\n",
      "          13       1.00      1.00      1.00       228\n",
      "          14       0.93      0.78      0.85      5660\n",
      "          15       1.00      1.00      1.00       313\n",
      "          16       0.91      0.80      0.85      4662\n",
      "          17       1.00      1.00      1.00       256\n",
      "\n",
      "   micro avg       0.86      0.86      0.86     69955\n",
      "   macro avg       0.94      0.92      0.93     69955\n",
      "weighted avg       0.87      0.86      0.86     69955\n",
      "\n"
     ]
    }
   ],
   "source": [
    "# 200 estimators\n",
    "print(classification_report(t2, t2_pred))"
   ]
  },
  {
   "cell_type": "code",
   "execution_count": 41,
   "metadata": {},
   "outputs": [
    {
     "name": "stdout",
     "output_type": "stream",
     "text": [
      "              precision    recall  f1-score   support\n",
      "\n",
      "           0       0.97      0.96      0.96     12313\n",
      "           1       1.00      1.00      1.00       218\n",
      "           2       0.97      0.93      0.95      4375\n",
      "           3       0.99      0.99      0.99       319\n",
      "           4       0.90      0.96      0.93      9892\n",
      "           5       1.00      1.00      1.00       392\n",
      "           6       0.96      0.93      0.95      4486\n",
      "           7       1.00      1.00      1.00       355\n",
      "           8       0.92      0.96      0.94     14831\n",
      "           9       1.00      1.00      1.00       529\n",
      "          10       0.96      0.92      0.94      6312\n",
      "          11       1.00      1.00      1.00       319\n",
      "          12       0.98      0.93      0.95      4495\n",
      "          13       1.00      1.00      1.00       228\n",
      "          14       0.97      0.92      0.94      5660\n",
      "          15       1.00      1.00      1.00       313\n",
      "          16       0.96      0.94      0.95      4662\n",
      "          17       1.00      1.00      1.00       256\n",
      "\n",
      "   micro avg       0.95      0.95      0.95     69955\n",
      "   macro avg       0.98      0.97      0.97     69955\n",
      "weighted avg       0.95      0.95      0.95     69955\n",
      "\n"
     ]
    }
   ],
   "source": [
    "# 400 estimators\n",
    "print(classification_report(t2, t2_pred))"
   ]
  },
  {
   "cell_type": "code",
   "execution_count": null,
   "metadata": {},
   "outputs": [],
   "source": []
  }
 ],
 "metadata": {
  "kernelspec": {
   "display_name": "Python 3",
   "language": "python",
   "name": "python3"
  },
  "language_info": {
   "codemirror_mode": {
    "name": "ipython",
    "version": 3
   },
   "file_extension": ".py",
   "mimetype": "text/x-python",
   "name": "python",
   "nbconvert_exporter": "python",
   "pygments_lexer": "ipython3",
   "version": "3.7.1"
  },
  "latex_envs": {
   "LaTeX_envs_menu_present": true,
   "autoclose": false,
   "autocomplete": true,
   "bibliofile": "biblio.bib",
   "cite_by": "apalike",
   "current_citInitial": 1,
   "eqLabelWithNumbers": true,
   "eqNumInitial": 1,
   "hotkeys": {
    "equation": "Ctrl-E",
    "itemize": "Ctrl-I"
   },
   "labels_anchors": false,
   "latex_user_defs": false,
   "report_style_numbering": false,
   "user_envs_cfg": false
  },
  "varInspector": {
   "cols": {
    "lenName": 16,
    "lenType": 16,
    "lenVar": 40
   },
   "kernels_config": {
    "python": {
     "delete_cmd_postfix": "",
     "delete_cmd_prefix": "del ",
     "library": "var_list.py",
     "varRefreshCmd": "print(var_dic_list())"
    },
    "r": {
     "delete_cmd_postfix": ") ",
     "delete_cmd_prefix": "rm(",
     "library": "var_list.r",
     "varRefreshCmd": "cat(var_dic_list()) "
    }
   },
   "types_to_exclude": [
    "module",
    "function",
    "builtin_function_or_method",
    "instance",
    "_Feature"
   ],
   "window_display": false
  }
 },
 "nbformat": 4,
 "nbformat_minor": 2
}

{
 "cells": [
  {
   "cell_type": "code",
   "execution_count": 2,
   "metadata": {},
   "outputs": [],
   "source": [
    "import os\n",
    "import sys\n",
    "module_path = os.path.abspath(os.path.join('..'))\n",
    "if module_path not in sys.path:\n",
    "    sys.path.append(module_path)"
   ]
  },
  {
   "cell_type": "code",
   "execution_count": 3,
   "metadata": {},
   "outputs": [],
   "source": [
    "%load_ext autoreload\n",
    "%autoreload 2"
   ]
  },
  {
   "cell_type": "code",
   "execution_count": 4,
   "metadata": {},
   "outputs": [],
   "source": [
    "from replay import Replay, State, Team\n",
    "from bots.lgbm.preprocessing    import remove_menu_and_pause\n",
    "from bots.lgbm.preprocessing    import who_scored\n",
    "from bots.lgbm.preprocessing    import game_state_to_numpy\n",
    "from bots.lgbm.preprocessing    import transform_episode_around_pivot\n",
    "from bots.lgbm.preprocessing    import Encoder\n",
    "from bots.lgbm.preprocessing    import STACK_FRAMES\n",
    "\n",
    "from typing import Optional\n",
    "from sklearn.metrics import confusion_matrix, classification_report\n",
    "from joblib import dump, load\n",
    "\n",
    "import matplotlib.pyplot as plt\n",
    "import numpy as np"
   ]
  },
  {
   "cell_type": "code",
   "execution_count": 5,
   "metadata": {},
   "outputs": [],
   "source": [
    "def prepare_train_data(episodes, stack_frames=4):\n",
    "    # Take resultative episodes as training data\n",
    "    train_x, train_y = [], []\n",
    "    for episode in episodes:\n",
    "        scorer = who_scored(episode)\n",
    "        if scorer is not None:\n",
    "            if scorer == Team.Blue:\n",
    "                transform_episode_around_pivot(episode, scorer)\n",
    "            \n",
    "            x = []\n",
    "            y = []\n",
    "            for e in episode:\n",
    "                e_x, e_y = game_state_to_numpy(e, scorer)\n",
    "                if e_x is not None and e_y is not None:\n",
    "                    x.append(e_x)\n",
    "                    y.append(e_y)\n",
    "            \n",
    "            # If there was no target player - ignore\n",
    "            if x is not None and y is not None:\n",
    "                train_x.append(x)\n",
    "                train_y.append(y)\n",
    "                \n",
    "    # Stack n-frames\n",
    "    x = []\n",
    "    y = []\n",
    "    for episode_i in range(len(train_x)):\n",
    "        episode_x      = train_x[episode_i]\n",
    "        episode_y      = train_y[episode_i]\n",
    "        \n",
    "        # Stacked samples\n",
    "        train_sample = [episode_x[0] for _ in range(stack_frames)]\n",
    "        \n",
    "        x.append(np.concatenate(train_sample).ravel())\n",
    "        y.append(Encoder.boolarr_to_class(np.array(episode_y[0])))\n",
    "        \n",
    "        for frame_i in range(1, len(episode_x)):\n",
    "            frame_x = episode_x[frame_i]\n",
    "            frame_y = episode_y[frame_i]\n",
    "            \n",
    "            # Move stack\n",
    "            for i in range(1, stack_frames):\n",
    "                train_sample[i] = train_sample[i - 1]\n",
    "            train_sample[0] = frame_x\n",
    "            \n",
    "            x.append(np.concatenate(train_sample).ravel())\n",
    "            y.append(Encoder.boolarr_to_class(np.array(frame_y)))\n",
    "            \n",
    "    return x, y"
   ]
  },
  {
   "cell_type": "code",
   "execution_count": 6,
   "metadata": {},
   "outputs": [],
   "source": [
    "import os\n",
    "\n",
    "def prepare_train_data_folder(path):\n",
    "    all_episodes = []\n",
    "    num_games    = 0\n",
    "    for file in os.listdir(path):\n",
    "        if file[-4:] != \".bin\":\n",
    "            continue\n",
    "            \n",
    "        num_games += 1\n",
    "        \n",
    "        # Parse replay and etract game epsiodes\n",
    "        _, replay = Replay(open(os.path.join(path, file), mode=\"rb\").read())\n",
    "        episodes = remove_menu_and_pause(replay)\n",
    "        all_episodes.extend(episodes)\n",
    "        \n",
    "    print(\"Num episodes: {}\".format(len(all_episodes)))\n",
    "    print(\"Num games: {}\".format(num_games))\n",
    "    return prepare_train_data(all_episodes, 1)"
   ]
  },
  {
   "cell_type": "code",
   "execution_count": 7,
   "metadata": {},
   "outputs": [],
   "source": [
    "import json\n",
    "\n",
    "with open(\"../preprocessed/statistics.json\") as f:\n",
    "    names = json.load(f)"
   ]
  },
  {
   "cell_type": "code",
   "execution_count": 8,
   "metadata": {},
   "outputs": [],
   "source": [
    "max_replays = 0\n",
    "max_name    = None\n",
    "for name in names.keys():\n",
    "    if len(names[name]) > max_replays:\n",
    "        max_replays = len(names[name])\n",
    "        max_name = name"
   ]
  },
  {
   "cell_type": "code",
   "execution_count": 9,
   "metadata": {},
   "outputs": [
    {
     "data": {
      "text/plain": [
       "26"
      ]
     },
     "execution_count": 9,
     "metadata": {},
     "output_type": "execute_result"
    }
   ],
   "source": [
    "max_replays"
   ]
  },
  {
   "cell_type": "code",
   "execution_count": 10,
   "metadata": {},
   "outputs": [
    {
     "data": {
      "text/plain": [
       "'Saviour'"
      ]
     },
     "execution_count": 10,
     "metadata": {},
     "output_type": "execute_result"
    }
   ],
   "source": [
    "max_name"
   ]
  },
  {
   "cell_type": "code",
   "execution_count": 11,
   "metadata": {},
   "outputs": [],
   "source": [
    "all_episodes = []\n",
    "for relative_path in names[max_name][:4]:\n",
    "    path = \"..\"\n",
    "    # Parse replay and etract game epsiodes\n",
    "    _, replay = Replay(open(os.path.join(path, relative_path), mode=\"rb\").read())\n",
    "    episodes = remove_menu_and_pause(replay)\n",
    "    all_episodes.extend(episodes)"
   ]
  },
  {
   "cell_type": "code",
   "execution_count": 12,
   "metadata": {},
   "outputs": [
    {
     "data": {
      "text/plain": [
       "75"
      ]
     },
     "execution_count": 12,
     "metadata": {},
     "output_type": "execute_result"
    }
   ],
   "source": [
    "len(all_episodes)"
   ]
  },
  {
   "cell_type": "markdown",
   "metadata": {},
   "source": []
  },
  {
   "cell_type": "code",
   "execution_count": 13,
   "metadata": {},
   "outputs": [],
   "source": [
    "t1, t2 = prepare_train_data(all_episodes, STACK_FRAMES)\n",
    "del all_episodes"
   ]
  },
  {
   "cell_type": "code",
   "execution_count": 14,
   "metadata": {},
   "outputs": [
    {
     "name": "stdout",
     "output_type": "stream",
     "text": [
      "Learning rate set to 0.5\n",
      "0:\tlearn: 0.3019198\ttotal: 178ms\tremaining: 0us\n"
     ]
    },
    {
     "data": {
      "text/plain": [
       "<catboost.core.CatBoostClassifier at 0x7f56f3bbff60>"
      ]
     },
     "execution_count": 14,
     "metadata": {},
     "output_type": "execute_result"
    }
   ],
   "source": [
    "from catboost import CatBoostClassifier\n",
    "\n",
    "imitator = CatBoostClassifier(task_type=\"GPU\", iterations=100)\n",
    "imitator.fit(t1, t2)"
   ]
  },
  {
   "cell_type": "code",
   "execution_count": null,
   "metadata": {},
   "outputs": [],
   "source": [
    "import lightgbm as lgb\n",
    "imitator = lgb.LGBMClassifier(n_estimators=100)\n",
    "imitator.fit(t1, t2)"
   ]
  },
  {
   "cell_type": "code",
   "execution_count": 15,
   "metadata": {},
   "outputs": [
    {
     "data": {
      "text/plain": [
       "array([ 0.        , 25.2918378 ,  0.        ,  0.        ,  0.        ,\n",
       "        0.        ,  0.        ,  0.        ,  0.        , 10.83903193,\n",
       "        0.        ,  0.        ,  0.        ,  0.        ,  0.        ,\n",
       "       55.44486684,  0.        ,  0.        ,  0.        ,  0.        ,\n",
       "        0.        ,  0.        ,  0.        ,  0.        ,  0.        ,\n",
       "        0.        ,  0.        ,  0.        ,  8.42426342,  0.        ,\n",
       "        0.        ])"
      ]
     },
     "execution_count": 15,
     "metadata": {},
     "output_type": "execute_result"
    }
   ],
   "source": [
    "imitator.feature_importances_"
   ]
  },
  {
   "cell_type": "code",
   "execution_count": 16,
   "metadata": {},
   "outputs": [],
   "source": [
    "t2_pred = imitator.predict(t1)"
   ]
  },
  {
   "cell_type": "code",
   "execution_count": 17,
   "metadata": {},
   "outputs": [],
   "source": [
    "from sklearn.utils.multiclass import unique_labels\n",
    "\n",
    "def plot_confusion_matrix(y_true, y_pred, classes,\n",
    "                          normalize=False,\n",
    "                          title=None,\n",
    "                          cmap=plt.cm.Blues):\n",
    "    \"\"\"\n",
    "    This function prints and plots the confusion matrix.\n",
    "    Normalization can be applied by setting `normalize=True`.\n",
    "    \"\"\"\n",
    "    if not title:\n",
    "        if normalize:\n",
    "            title = 'Normalized confusion matrix'\n",
    "        else:\n",
    "            title = 'Confusion matrix, without normalization'\n",
    "\n",
    "    # Compute confusion matrix\n",
    "    cm = confusion_matrix(y_true, y_pred)\n",
    "    # Only use the labels that appear in the data\n",
    "    #classes = classes[unique_labels(y_true, y_pred)]\n",
    "    if normalize:\n",
    "        cm = cm.astype('float') / cm.sum(axis=1)[:, np.newaxis]\n",
    "        print(\"Normalized confusion matrix\")\n",
    "    else:\n",
    "        print('Confusion matrix, without normalization')\n",
    "\n",
    "    fig, ax = plt.subplots()\n",
    "    im = ax.imshow(cm, interpolation='nearest', cmap=cmap)\n",
    "    ax.figure.colorbar(im, ax=ax)\n",
    "    # We want to show all ticks...\n",
    "    ax.set(xticks=np.arange(cm.shape[1]),\n",
    "           yticks=np.arange(cm.shape[0]),\n",
    "           # ... and label them with the respective list entries\n",
    "           xticklabels=classes, yticklabels=classes,\n",
    "           title=title,\n",
    "           ylabel='True label',\n",
    "           xlabel='Predicted label')\n",
    "\n",
    "    # Rotate the tick labels and set their alignment.\n",
    "    plt.setp(ax.get_xticklabels(), rotation=45, ha=\"right\",\n",
    "             rotation_mode=\"anchor\")\n",
    "\n",
    "    # Loop over data dimensions and create text annotations.\n",
    "    fmt = '.2f' if normalize else 'd'\n",
    "    thresh = cm.max() / 2.\n",
    "    for i in range(cm.shape[0]):\n",
    "        for j in range(cm.shape[1]):\n",
    "            ax.text(j, i, format(cm[i, j], fmt),\n",
    "                    ha=\"center\", va=\"center\",\n",
    "                    color=\"white\" if cm[i, j] > thresh else \"black\")\n",
    "    fig.tight_layout()\n",
    "    return ax"
   ]
  },
  {
   "cell_type": "code",
   "execution_count": 18,
   "metadata": {},
   "outputs": [
    {
     "name": "stdout",
     "output_type": "stream",
     "text": [
      "Confusion matrix, without normalization\n"
     ]
    },
    {
     "data": {
      "image/png": "[encoded data removed]",
      "text/plain": [
       "<Figure size 432x288 with 2 Axes>"
      ]
     },
     "metadata": {
      "needs_background": "light"
     },
     "output_type": "display_data"
    }
   ],
   "source": [
    "plot_confusion_matrix(t2, t2_pred.astype(int), list(range(18)))\n",
    "plt.show()"
   ]
  },
  {
   "cell_type": "code",
   "execution_count": 19,
   "metadata": {},
   "outputs": [
    {
     "name": "stderr",
     "output_type": "stream",
     "text": [
      "/home/vkurenkov/anaconda3/lib/python3.7/site-packages/sklearn/metrics/classification.py:1143: UndefinedMetricWarning: Precision and F-score are ill-defined and being set to 0.0 in labels with no predicted samples.\n",
      "  'precision', 'predicted', average, warn_for)\n"
     ]
    },
    {
     "name": "stdout",
     "output_type": "stream",
     "text": [
      "              precision    recall  f1-score   support\n",
      "\n",
      "           0       0.82      0.66      0.73     21840\n",
      "           1       0.00      0.74      0.01       421\n",
      "           2       0.00      0.00      0.00      8689\n",
      "           3       0.00      0.00      0.00       558\n",
      "           4       0.00      0.00      0.00     29273\n",
      "           5       0.00      0.00      0.00      1195\n",
      "           6       0.00      0.00      0.00      8875\n",
      "           7       0.00      0.00      0.00       633\n",
      "           8       0.00      0.00      0.00     17624\n",
      "           9       0.00      0.00      0.00       583\n",
      "          10       0.00      0.00      0.00      8127\n",
      "          11       0.00      0.00      0.00       362\n",
      "          12       0.00      0.00      0.00     12066\n",
      "          13       0.00      0.00      0.00       620\n",
      "          14       0.00      0.00      0.00      8666\n",
      "          15       0.00      0.00      0.00       448\n",
      "          16       0.00      0.00      0.00     12889\n",
      "          17       0.00      0.00      0.00       728\n",
      "\n",
      "   micro avg       0.11      0.11      0.11    133597\n",
      "   macro avg       0.05      0.08      0.04    133597\n",
      "weighted avg       0.13      0.11      0.12    133597\n",
      "\n"
     ]
    }
   ],
   "source": [
    "# 100 estimators\n",
    "print(classification_report(t2, t2_pred))"
   ]
  },
  {
   "cell_type": "code",
   "execution_count": null,
   "metadata": {},
   "outputs": [],
   "source": [
    "dump(imitator, 'imitator1.joblib')"
   ]
  }
 ],
 "metadata": {
  "kernelspec": {
   "display_name": "Python 3",
   "language": "python",
   "name": "python3"
  },
  "language_info": {
   "codemirror_mode": {
    "name": "ipython",
    "version": 3
   },
   "file_extension": ".py",
   "mimetype": "text/x-python",
   "name": "python",
   "nbconvert_exporter": "python",
   "pygments_lexer": "ipython3",
   "version": "3.7.1"
  },
  "latex_envs": {
   "LaTeX_envs_menu_present": true,
   "autoclose": false,
   "autocomplete": true,
   "bibliofile": "biblio.bib",
   "cite_by": "apalike",
   "current_citInitial": 1,
   "eqLabelWithNumbers": true,
   "eqNumInitial": 1,
   "hotkeys": {
    "equation": "Ctrl-E",
    "itemize": "Ctrl-I"
   },
   "labels_anchors": false,
   "latex_user_defs": false,
   "report_style_numbering": false,
   "user_envs_cfg": false
  },
  "varInspector": {
   "cols": {
    "lenName": 16,
    "lenType": 16,
    "lenVar": 40
   },
   "kernels_config": {
    "python": {
     "delete_cmd_postfix": "",
     "delete_cmd_prefix": "del ",
     "library": "var_list.py",
     "varRefreshCmd": "print(var_dic_list())"
    },
    "r": {
     "delete_cmd_postfix": ") ",
     "delete_cmd_prefix": "rm(",
     "library": "var_list.r",
     "varRefreshCmd": "cat(var_dic_list()) "
    }
   },
   "types_to_exclude": [
    "module",
    "function",
    "builtin_function_or_method",
    "instance",
    "_Feature"
   ],
   "window_display": false
  }
 },
 "nbformat": 4,
 "nbformat_minor": 2
}
